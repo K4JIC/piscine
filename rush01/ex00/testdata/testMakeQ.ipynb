{
 "cells": [
  {
   "cell_type": "markdown",
   "id": "9630fd07",
   "metadata": {},
   "source": [
    "## 問題生成"
   ]
  },
  {
   "cell_type": "code",
   "execution_count": 2,
   "id": "cf7e15a1",
   "metadata": {},
   "outputs": [],
   "source": [
    "import numpy as np\n",
    "import pandas as pd\n",
    "import random\n",
    "import time"
   ]
  },
  {
   "cell_type": "code",
   "execution_count": 118,
   "id": "48c3f03e",
   "metadata": {},
   "outputs": [
    {
     "name": "stdout",
     "output_type": "stream",
     "text": [
      "2 4 1 3\n",
      "4 2 3 1\n",
      "3 1 4 2\n",
      "1 3 2 4\n"
     ]
    }
   ],
   "source": [
    "import random\n",
    "\n",
    "def is_valid(board, row, col, num, n):\n",
    "    # 行チェック\n",
    "    for i in range(n):\n",
    "        if board[row][i] == num:\n",
    "            return False\n",
    "\n",
    "    # 列チェック\n",
    "    for i in range(n):\n",
    "        if board[i][col] == num:\n",
    "            return False\n",
    "\n",
    "    return True\n",
    "\n",
    "def solve_sudoku(board, n):\n",
    "    empty_cell = find_empty(board, n)\n",
    "    if not empty_cell:\n",
    "        return True  # 解決\n",
    "    row, col = empty_cell\n",
    "\n",
    "    # 1～nをランダムな順序で試す\n",
    "    nums = list(range(1, n + 1))\n",
    "    random.shuffle(nums)\n",
    "\n",
    "    for num in nums:\n",
    "        if is_valid(board, row, col, num, n):\n",
    "            board[row][col] = num\n",
    "            if solve_sudoku(board, n):  # 再帰的に解を試す\n",
    "                return True\n",
    "            board[row][col] = 0  # 戻る（バックトラック）\n",
    "\n",
    "    return False  # 解が見つからない場合\n",
    "\n",
    "# 空白のセルを見つける\n",
    "def find_empty(board, n):\n",
    "    for row in range(n):\n",
    "        for col in range(n):\n",
    "            if board[row][col] == 0:\n",
    "                return (row, col)\n",
    "    return None\n",
    "\n",
    "def generate_full_sudoku(n):\n",
    "    board = [[0 for _ in range(n)] for _ in range(n)]\n",
    "    solve_sudoku(board, n)\n",
    "    return board\n",
    "\n",
    "def print_board(board, n):\n",
    "    for row in board:\n",
    "        print(\" \".join(str(num) if num != 0 else '.' for num in row))\n",
    "\n",
    "n = 4\n",
    "generated_board = generate_full_sudoku(n)\n",
    "\n",
    "print_board(generated_board, n)\n"
   ]
  },
  {
   "cell_type": "code",
   "execution_count": 119,
   "id": "dbb1b5bd",
   "metadata": {},
   "outputs": [
    {
     "name": "stdout",
     "output_type": "stream",
     "text": [
      "[[2, 1, 3, 2], [3, 2, 2, 1], [2, 1, 2, 3], [2, 3, 2, 1]]\n"
     ]
    }
   ],
   "source": [
    "def count_visible(line):\n",
    "\ti = 0\n",
    "\tmax = 0\n",
    "\tcount = 0\n",
    "\tlength = len(line)\n",
    "\twhile (max != length):\n",
    "\t\tif (line[i] > max):\n",
    "\t\t\tmax = line[i]\n",
    "\t\t\tcount += 1\n",
    "\t\ti += 1\n",
    "\treturn count\n",
    "\n",
    "def count(board, n):\n",
    "\tlabel = [[0 for _ in range(n)] for _ in range(4)]\n",
    "\t# 上からカウント\n",
    "\tfor i in range(n):\n",
    "\t\tlabel[0][i] = count_visible([r[i] for r in board])\n",
    "\n",
    "\t\n",
    "\t# 下からカウント\n",
    "\tfor i in range(n):\n",
    "\t\tlabel[1][i] = count_visible(list(reversed([r[i] for r in board])))\n",
    "\n",
    "\t# 左からカウント\n",
    "\tfor i in range(n):\n",
    "\t\tlabel[2][i] = count_visible(board[:][i])\n",
    "\n",
    "\t# 右からカウント\n",
    "\tfor i in range(n):\n",
    "\t\tlabel[3][i] = count_visible(list(reversed(board[:][i])))\n",
    "\t\n",
    "\treturn label\n",
    "\n",
    "def format_label(label, n):\n",
    "\tfor i,row in enumerate(label):\n",
    "\t\tif (i == n - 1):\n",
    "\t\t\tprint(\" \".join(str(num) for num in row), end=\"\")\n",
    "\t\telse:\n",
    "\t\t\tprint(\" \".join(str(num) for num in row), end=\" \")\n",
    "\n",
    "label = count(generated_board, n)\n",
    "print(label)\n",
    "#format_label(label, n)"
   ]
  },
  {
   "cell_type": "code",
   "execution_count": null,
   "id": "406afc8f",
   "metadata": {},
   "outputs": [],
   "source": []
  },
  {
   "cell_type": "code",
   "execution_count": 106,
   "id": "ef331cf5",
   "metadata": {},
   "outputs": [
    {
     "name": "stdout",
     "output_type": "stream",
     "text": [
      "[[0, 0, 1, 0, 0, 0], [0, 0, 0, 0, 0, 0], [0, 0, 0, 0, 0, 0], [0, 0, 0, 0, 0, 0]]\n",
      "[0, 0, 0, 0, 0, 0]\n"
     ]
    }
   ],
   "source": [
    "n = 6\n",
    "label = [[0 for _ in range(n)] for _ in range(4)]\n",
    "label[0][2] = 1\n",
    "print(label)\n",
    "print(label[:][1])"
   ]
  },
  {
   "cell_type": "code",
   "execution_count": 111,
   "id": "0731227a",
   "metadata": {},
   "outputs": [
    {
     "data": {
      "text/plain": [
       "6"
      ]
     },
     "execution_count": 111,
     "metadata": {},
     "output_type": "execute_result"
    }
   ],
   "source": [
    "label[0].reverse()\n",
    "len(label[0])"
   ]
  },
  {
   "cell_type": "code",
   "execution_count": 128,
   "id": "599d7267",
   "metadata": {},
   "outputs": [
    {
     "data": {
      "text/plain": [
       "[3, 4, 2, 1]"
      ]
     },
     "execution_count": 128,
     "metadata": {},
     "output_type": "execute_result"
    }
   ],
   "source": [
    "[r[0] for r in generated_board]"
   ]
  }
 ],
 "metadata": {
  "kernelspec": {
   "display_name": "Python 3",
   "language": "python",
   "name": "python3"
  },
  "language_info": {
   "codemirror_mode": {
    "name": "ipython",
    "version": 3
   },
   "file_extension": ".py",
   "mimetype": "text/x-python",
   "name": "python",
   "nbconvert_exporter": "python",
   "pygments_lexer": "ipython3",
   "version": "3.10.12"
  }
 },
 "nbformat": 4,
 "nbformat_minor": 5
}
